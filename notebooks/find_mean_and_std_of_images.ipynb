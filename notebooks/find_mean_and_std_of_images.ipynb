{
 "cells": [
  {
   "cell_type": "code",
   "execution_count": 145,
   "metadata": {},
   "outputs": [],
   "source": [
    "import numpy as np\n",
    "import pandas as pd\n",
    "import cv2\n",
    "import glob\n",
    "import sys, os, multiprocessing\n",
    "from PIL import Image\n",
    "from shutil import copyfile\n",
    "\n",
    "import matplotlib.pyplot as plt\n",
    "%matplotlib inline\n",
    "\n",
    "import time"
   ]
  },
  {
   "cell_type": "code",
   "execution_count": 2,
   "metadata": {},
   "outputs": [],
   "source": [
    "file_paths = glob.glob(\"../data/imgs/*.jpg\")"
   ]
  },
  {
   "cell_type": "code",
   "execution_count": 3,
   "metadata": {},
   "outputs": [
    {
     "data": {
      "text/plain": [
       "'../data/imgs/185146_76.jpg'"
      ]
     },
     "execution_count": 3,
     "metadata": {},
     "output_type": "execute_result"
    }
   ],
   "source": [
    "file_paths[1]"
   ]
  },
  {
   "cell_type": "code",
   "execution_count": 146,
   "metadata": {},
   "outputs": [],
   "source": [
    "def process_image(path):\n",
    "    '''\n",
    "    open an image at path:\n",
    "    figure out:\n",
    "    h - height\n",
    "    w - width\n",
    "    size - size of file\n",
    "    ratio - amount of Bytes per pixel\n",
    "    '''\n",
    "    img = cv2.imread(path)\n",
    "    \n",
    "    print(path + \"\\r\", end=\"\", flush=True)\n",
    "    \n",
    "    if img is not None:\n",
    "        item_dict = {}\n",
    "        \n",
    "        h, w = img.shape[0], img.shape[1]\n",
    "        \n",
    "        if h > 50 and w > 50:\n",
    "        \n",
    "            aspect_ratio = w / (h * 1.0)\n",
    "\n",
    "            pixels = h * w\n",
    "\n",
    "            st = os.stat(path)\n",
    "            file_size = st.st_size\n",
    "\n",
    "            b, g, r = cv2.split(img)         # get b,g,r\n",
    "\n",
    "            all_r_mean = 176.00384963451177\n",
    "            all_g_mean = 166.20842509882658\n",
    "            all_b_mean = 158.0920543886322\n",
    "\n",
    "            r_mean = np.mean(r)\n",
    "            g_mean = np.mean(g)\n",
    "            b_mean = np.mean(b)\n",
    "\n",
    "            item_dict['h'] = h\n",
    "            item_dict['w'] = w\n",
    "            item_dict['aspect_ratio'] = aspect_ratio\n",
    "            item_dict['pixels'] = pixels\n",
    "            item_dict['file_size'] = file_size\n",
    "            item_dict['r_mean'] = r_mean\n",
    "            item_dict['g_mean'] = g_mean\n",
    "            item_dict['b_mean'] = b_mean\n",
    "            item_dict[\"pix_pb\"] = pixels / (file_size * 1.0)\n",
    "            item_dict[\"path\"] = path\n",
    "            item_dict[\"r_accum_err\"] = np.sum((r - all_r_mean)**2)/pixels\n",
    "            item_dict[\"g_accum_err\"] = np.sum((g - all_g_mean)**2)/pixels\n",
    "            item_dict[\"b_accum_err\"] = np.sum((b - all_b_mean)**2)/pixels\n",
    "\n",
    "    #         temp_img = cv2.merge([r, g, b])    # switch it to rgb\n",
    "            new_path = \"../data/clean_raw/\" + path.split(\"/\")[-1]\n",
    "    \n",
    "#             write_img = Image.open(path)\n",
    "    \n",
    "            try:\n",
    "                copyfile(path, new_path)\n",
    "            except:\n",
    "                print('Warning: Failed to save image %s' % filename)\n",
    "    \n",
    "            return item_dict\n",
    "        else:\n",
    "            return None\n",
    "        \n",
    "    else:\n",
    "        return None"
   ]
  },
  {
   "cell_type": "code",
   "execution_count": 147,
   "metadata": {},
   "outputs": [
    {
     "name": "stdout",
     "output_type": "stream",
     "text": [
      "../data/imgs/77151_121.jpgg 190400/190411\r"
     ]
    }
   ],
   "source": [
    "# data = []\n",
    "# junk = []\n",
    "\n",
    "# start = time.time()\n",
    "\n",
    "# for idx, path in enumerate(file_paths):\n",
    "#     # 18.35s\n",
    "#     # 16.1s if not printing every read\n",
    "# #     if idx > 1901:\n",
    "# #         break\n",
    "    \n",
    "#     result = process_image(path)\n",
    "    \n",
    "#     if idx % 100 == 0:\n",
    "#         elapsed = time.time() - start\n",
    "#         print(\"time: {:4.2f}s   processing {:}/{:}\\r\".format(elapsed, idx, len(file_paths)), end=\"\", flush=True)\n",
    "    \n",
    "#     if result is not None:\n",
    "#         data.append(result)\n"
   ]
  },
  {
   "cell_type": "code",
   "execution_count": 5,
   "metadata": {},
   "outputs": [
    {
     "name": "stdout",
     "output_type": "stream",
     "text": [
      "190411a/imgs/155702_125.jpg\n"
     ]
    }
   ],
   "source": [
    "data = []\n",
    "\n",
    "p = multiprocessing.Pool(processes=100)\n",
    "data = p.map(process_image, [path for path in file_paths])\n",
    "p.close()\n",
    "\n",
    "print(len(data))"
   ]
  },
  {
   "cell_type": "code",
   "execution_count": 237,
   "metadata": {},
   "outputs": [],
   "source": [
    "clean_data = [row for row in data if row is not None]"
   ]
  },
  {
   "cell_type": "code",
   "execution_count": 238,
   "metadata": {},
   "outputs": [
    {
     "name": "stdout",
     "output_type": "stream",
     "text": [
      "190396\n"
     ]
    },
    {
     "data": {
      "text/plain": [
       "{'aspect_ratio': 1.0,\n",
       " 'b_accum_err': 3001.4325581814905,\n",
       " 'b_mean': 147.0363484375,\n",
       " 'file_size': 128286,\n",
       " 'g_accum_err': 3322.7534465755766,\n",
       " 'g_mean': 145.8245546875,\n",
       " 'h': 800,\n",
       " 'path': '../data/imgs/5766_86.jpg',\n",
       " 'pix_pb': 4.988853031507725,\n",
       " 'pixels': 640000,\n",
       " 'r_accum_err': 4585.750255011382,\n",
       " 'r_mean': 140.5760359375,\n",
       " 'w': 800}"
      ]
     },
     "execution_count": 238,
     "metadata": {},
     "output_type": "execute_result"
    }
   ],
   "source": [
    "print(len(clean_data))\n",
    "\n",
    "clean_data[0]"
   ]
  },
  {
   "cell_type": "code",
   "execution_count": 239,
   "metadata": {},
   "outputs": [],
   "source": [
    "df = pd.DataFrame(clean_data, columns=[\"path\", \"h\", \"w\", \"pixels\", \"aspect_ratio\", \"file_size\", \"pix_pb\", \"r_mean\", \"g_mean\", \"b_mean\", \"r_accum_err\", \"g_accum_err\", \"b_accum_err\"])"
   ]
  },
  {
   "cell_type": "code",
   "execution_count": 240,
   "metadata": {},
   "outputs": [
    {
     "name": "stdout",
     "output_type": "stream",
     "text": [
      "<class 'pandas.core.frame.DataFrame'>\n",
      "RangeIndex: 190396 entries, 0 to 190395\n",
      "Data columns (total 13 columns):\n",
      "path            190396 non-null object\n",
      "h               190396 non-null int64\n",
      "w               190396 non-null int64\n",
      "pixels          190396 non-null int64\n",
      "aspect_ratio    190396 non-null float64\n",
      "file_size       190396 non-null int64\n",
      "pix_pb          190396 non-null float64\n",
      "r_mean          190396 non-null float64\n",
      "g_mean          190396 non-null float64\n",
      "b_mean          190396 non-null float64\n",
      "r_accum_err     190396 non-null float64\n",
      "g_accum_err     190396 non-null float64\n",
      "b_accum_err     190396 non-null float64\n",
      "dtypes: float64(8), int64(4), object(1)\n",
      "memory usage: 18.9+ MB\n"
     ]
    }
   ],
   "source": [
    "df.info()"
   ]
  },
  {
   "cell_type": "code",
   "execution_count": 241,
   "metadata": {},
   "outputs": [
    {
     "data": {
      "text/html": [
       "<div>\n",
       "<style scoped>\n",
       "    .dataframe tbody tr th:only-of-type {\n",
       "        vertical-align: middle;\n",
       "    }\n",
       "\n",
       "    .dataframe tbody tr th {\n",
       "        vertical-align: top;\n",
       "    }\n",
       "\n",
       "    .dataframe thead th {\n",
       "        text-align: right;\n",
       "    }\n",
       "</style>\n",
       "<table border=\"1\" class=\"dataframe\">\n",
       "  <thead>\n",
       "    <tr style=\"text-align: right;\">\n",
       "      <th></th>\n",
       "      <th>path</th>\n",
       "      <th>h</th>\n",
       "      <th>w</th>\n",
       "      <th>pixels</th>\n",
       "      <th>aspect_ratio</th>\n",
       "      <th>file_size</th>\n",
       "      <th>pix_pb</th>\n",
       "      <th>r_mean</th>\n",
       "      <th>g_mean</th>\n",
       "      <th>b_mean</th>\n",
       "      <th>r_accum_err</th>\n",
       "      <th>g_accum_err</th>\n",
       "      <th>b_accum_err</th>\n",
       "    </tr>\n",
       "  </thead>\n",
       "  <tbody>\n",
       "    <tr>\n",
       "      <th>0</th>\n",
       "      <td>../data/imgs/5766_86.jpg</td>\n",
       "      <td>800</td>\n",
       "      <td>800</td>\n",
       "      <td>640000</td>\n",
       "      <td>1.000000</td>\n",
       "      <td>128286</td>\n",
       "      <td>4.988853</td>\n",
       "      <td>140.576036</td>\n",
       "      <td>145.824555</td>\n",
       "      <td>147.036348</td>\n",
       "      <td>4585.750255</td>\n",
       "      <td>3322.753447</td>\n",
       "      <td>3001.432558</td>\n",
       "    </tr>\n",
       "    <tr>\n",
       "      <th>1</th>\n",
       "      <td>../data/imgs/185146_76.jpg</td>\n",
       "      <td>800</td>\n",
       "      <td>800</td>\n",
       "      <td>640000</td>\n",
       "      <td>1.000000</td>\n",
       "      <td>117650</td>\n",
       "      <td>5.439864</td>\n",
       "      <td>182.197589</td>\n",
       "      <td>160.468755</td>\n",
       "      <td>163.731077</td>\n",
       "      <td>2744.201237</td>\n",
       "      <td>2468.796831</td>\n",
       "      <td>2708.509562</td>\n",
       "    </tr>\n",
       "    <tr>\n",
       "      <th>2</th>\n",
       "      <td>../data/imgs/107259_53.jpg</td>\n",
       "      <td>803</td>\n",
       "      <td>1200</td>\n",
       "      <td>963600</td>\n",
       "      <td>1.494396</td>\n",
       "      <td>82157</td>\n",
       "      <td>11.728763</td>\n",
       "      <td>157.738790</td>\n",
       "      <td>163.155018</td>\n",
       "      <td>157.571339</td>\n",
       "      <td>1982.503450</td>\n",
       "      <td>1808.718875</td>\n",
       "      <td>1687.411072</td>\n",
       "    </tr>\n",
       "    <tr>\n",
       "      <th>3</th>\n",
       "      <td>../data/imgs/28210_68.jpg</td>\n",
       "      <td>1000</td>\n",
       "      <td>971</td>\n",
       "      <td>971000</td>\n",
       "      <td>0.971000</td>\n",
       "      <td>143748</td>\n",
       "      <td>6.754877</td>\n",
       "      <td>172.242527</td>\n",
       "      <td>189.619725</td>\n",
       "      <td>207.394022</td>\n",
       "      <td>6413.232191</td>\n",
       "      <td>4704.347341</td>\n",
       "      <td>7332.541797</td>\n",
       "    </tr>\n",
       "    <tr>\n",
       "      <th>4</th>\n",
       "      <td>../data/imgs/45715_105.jpg</td>\n",
       "      <td>800</td>\n",
       "      <td>800</td>\n",
       "      <td>640000</td>\n",
       "      <td>1.000000</td>\n",
       "      <td>155172</td>\n",
       "      <td>4.124455</td>\n",
       "      <td>135.337081</td>\n",
       "      <td>127.190166</td>\n",
       "      <td>76.466955</td>\n",
       "      <td>4039.534133</td>\n",
       "      <td>5043.600309</td>\n",
       "      <td>10217.445737</td>\n",
       "    </tr>\n",
       "  </tbody>\n",
       "</table>\n",
       "</div>"
      ],
      "text/plain": [
       "                         path     h     w  pixels  aspect_ratio  file_size  \\\n",
       "0    ../data/imgs/5766_86.jpg   800   800  640000      1.000000     128286   \n",
       "1  ../data/imgs/185146_76.jpg   800   800  640000      1.000000     117650   \n",
       "2  ../data/imgs/107259_53.jpg   803  1200  963600      1.494396      82157   \n",
       "3   ../data/imgs/28210_68.jpg  1000   971  971000      0.971000     143748   \n",
       "4  ../data/imgs/45715_105.jpg   800   800  640000      1.000000     155172   \n",
       "\n",
       "      pix_pb      r_mean      g_mean      b_mean  r_accum_err  g_accum_err  \\\n",
       "0   4.988853  140.576036  145.824555  147.036348  4585.750255  3322.753447   \n",
       "1   5.439864  182.197589  160.468755  163.731077  2744.201237  2468.796831   \n",
       "2  11.728763  157.738790  163.155018  157.571339  1982.503450  1808.718875   \n",
       "3   6.754877  172.242527  189.619725  207.394022  6413.232191  4704.347341   \n",
       "4   4.124455  135.337081  127.190166   76.466955  4039.534133  5043.600309   \n",
       "\n",
       "    b_accum_err  \n",
       "0   3001.432558  \n",
       "1   2708.509562  \n",
       "2   1687.411072  \n",
       "3   7332.541797  \n",
       "4  10217.445737  "
      ]
     },
     "execution_count": 241,
     "metadata": {},
     "output_type": "execute_result"
    }
   ],
   "source": [
    "df.head()"
   ]
  },
  {
   "cell_type": "code",
   "execution_count": 242,
   "metadata": {},
   "outputs": [],
   "source": [
    "df.loc[:, \"r_accum_err\"] /= df.loc[:, \"pixels\"]\n",
    "df.loc[:, \"g_accum_err\"] /= df.loc[:, \"pixels\"]\n",
    "df.loc[:, \"b_accum_err\"] /= df.loc[:, \"pixels\"]"
   ]
  },
  {
   "cell_type": "code",
   "execution_count": 243,
   "metadata": {},
   "outputs": [
    {
     "data": {
      "text/html": [
       "<div>\n",
       "<style scoped>\n",
       "    .dataframe tbody tr th:only-of-type {\n",
       "        vertical-align: middle;\n",
       "    }\n",
       "\n",
       "    .dataframe tbody tr th {\n",
       "        vertical-align: top;\n",
       "    }\n",
       "\n",
       "    .dataframe thead th {\n",
       "        text-align: right;\n",
       "    }\n",
       "</style>\n",
       "<table border=\"1\" class=\"dataframe\">\n",
       "  <thead>\n",
       "    <tr style=\"text-align: right;\">\n",
       "      <th></th>\n",
       "      <th>path</th>\n",
       "      <th>h</th>\n",
       "      <th>w</th>\n",
       "      <th>pixels</th>\n",
       "      <th>aspect_ratio</th>\n",
       "      <th>file_size</th>\n",
       "      <th>pix_pb</th>\n",
       "      <th>r_mean</th>\n",
       "      <th>g_mean</th>\n",
       "      <th>b_mean</th>\n",
       "      <th>r_accum_err</th>\n",
       "      <th>g_accum_err</th>\n",
       "      <th>b_accum_err</th>\n",
       "    </tr>\n",
       "  </thead>\n",
       "  <tbody>\n",
       "    <tr>\n",
       "      <th>0</th>\n",
       "      <td>../data/imgs/5766_86.jpg</td>\n",
       "      <td>800</td>\n",
       "      <td>800</td>\n",
       "      <td>640000</td>\n",
       "      <td>1.000000</td>\n",
       "      <td>128286</td>\n",
       "      <td>4.988853</td>\n",
       "      <td>140.576036</td>\n",
       "      <td>145.824555</td>\n",
       "      <td>147.036348</td>\n",
       "      <td>0.007165</td>\n",
       "      <td>0.005192</td>\n",
       "      <td>0.004690</td>\n",
       "    </tr>\n",
       "    <tr>\n",
       "      <th>1</th>\n",
       "      <td>../data/imgs/185146_76.jpg</td>\n",
       "      <td>800</td>\n",
       "      <td>800</td>\n",
       "      <td>640000</td>\n",
       "      <td>1.000000</td>\n",
       "      <td>117650</td>\n",
       "      <td>5.439864</td>\n",
       "      <td>182.197589</td>\n",
       "      <td>160.468755</td>\n",
       "      <td>163.731077</td>\n",
       "      <td>0.004288</td>\n",
       "      <td>0.003857</td>\n",
       "      <td>0.004232</td>\n",
       "    </tr>\n",
       "    <tr>\n",
       "      <th>2</th>\n",
       "      <td>../data/imgs/107259_53.jpg</td>\n",
       "      <td>803</td>\n",
       "      <td>1200</td>\n",
       "      <td>963600</td>\n",
       "      <td>1.494396</td>\n",
       "      <td>82157</td>\n",
       "      <td>11.728763</td>\n",
       "      <td>157.738790</td>\n",
       "      <td>163.155018</td>\n",
       "      <td>157.571339</td>\n",
       "      <td>0.002057</td>\n",
       "      <td>0.001877</td>\n",
       "      <td>0.001751</td>\n",
       "    </tr>\n",
       "    <tr>\n",
       "      <th>3</th>\n",
       "      <td>../data/imgs/28210_68.jpg</td>\n",
       "      <td>1000</td>\n",
       "      <td>971</td>\n",
       "      <td>971000</td>\n",
       "      <td>0.971000</td>\n",
       "      <td>143748</td>\n",
       "      <td>6.754877</td>\n",
       "      <td>172.242527</td>\n",
       "      <td>189.619725</td>\n",
       "      <td>207.394022</td>\n",
       "      <td>0.006605</td>\n",
       "      <td>0.004845</td>\n",
       "      <td>0.007552</td>\n",
       "    </tr>\n",
       "    <tr>\n",
       "      <th>4</th>\n",
       "      <td>../data/imgs/45715_105.jpg</td>\n",
       "      <td>800</td>\n",
       "      <td>800</td>\n",
       "      <td>640000</td>\n",
       "      <td>1.000000</td>\n",
       "      <td>155172</td>\n",
       "      <td>4.124455</td>\n",
       "      <td>135.337081</td>\n",
       "      <td>127.190166</td>\n",
       "      <td>76.466955</td>\n",
       "      <td>0.006312</td>\n",
       "      <td>0.007881</td>\n",
       "      <td>0.015965</td>\n",
       "    </tr>\n",
       "  </tbody>\n",
       "</table>\n",
       "</div>"
      ],
      "text/plain": [
       "                         path     h     w  pixels  aspect_ratio  file_size  \\\n",
       "0    ../data/imgs/5766_86.jpg   800   800  640000      1.000000     128286   \n",
       "1  ../data/imgs/185146_76.jpg   800   800  640000      1.000000     117650   \n",
       "2  ../data/imgs/107259_53.jpg   803  1200  963600      1.494396      82157   \n",
       "3   ../data/imgs/28210_68.jpg  1000   971  971000      0.971000     143748   \n",
       "4  ../data/imgs/45715_105.jpg   800   800  640000      1.000000     155172   \n",
       "\n",
       "      pix_pb      r_mean      g_mean      b_mean  r_accum_err  g_accum_err  \\\n",
       "0   4.988853  140.576036  145.824555  147.036348     0.007165     0.005192   \n",
       "1   5.439864  182.197589  160.468755  163.731077     0.004288     0.003857   \n",
       "2  11.728763  157.738790  163.155018  157.571339     0.002057     0.001877   \n",
       "3   6.754877  172.242527  189.619725  207.394022     0.006605     0.004845   \n",
       "4   4.124455  135.337081  127.190166   76.466955     0.006312     0.007881   \n",
       "\n",
       "   b_accum_err  \n",
       "0     0.004690  \n",
       "1     0.004232  \n",
       "2     0.001751  \n",
       "3     0.007552  \n",
       "4     0.015965  "
      ]
     },
     "execution_count": 243,
     "metadata": {},
     "output_type": "execute_result"
    }
   ],
   "source": [
    "df.head()"
   ]
  },
  {
   "cell_type": "code",
   "execution_count": 244,
   "metadata": {},
   "outputs": [
    {
     "name": "stdout",
     "output_type": "stream",
     "text": [
      "red std: 53.940064598213006\n",
      "blue std: 56.605030104903534\n",
      "green std: 59.870462351866806\n"
     ]
    }
   ],
   "source": [
    "r_std = np.sqrt(np.sum(df.loc[:, \"r_accum_err\"].values))\n",
    "g_std = np.sqrt(np.sum(df.loc[:, \"g_accum_err\"].values))\n",
    "b_std = np.sqrt(np.sum(df.loc[:, \"b_accum_err\"].values))\n",
    "\n",
    "print(\"red std:\", r_std)\n",
    "print(\"blue std:\", g_std)\n",
    "print(\"green std:\", b_std)"
   ]
  },
  {
   "cell_type": "code",
   "execution_count": 245,
   "metadata": {},
   "outputs": [
    {
     "data": {
      "text/plain": [
       "(0, 62.47748176410204)"
      ]
     },
     "execution_count": 245,
     "metadata": {},
     "output_type": "execute_result"
    },
    {
     "data": {
      "image/png": "[encoded data removed]",
      "text/plain": [
       "<matplotlib.figure.Figure at 0x7fc655ecbe80>"
      ]
     },
     "metadata": {},
     "output_type": "display_data"
    }
   ],
   "source": [
    "fig, ax = plt.subplots(figsize=(12, 8))\n",
    "\n",
    "ax.hist(df.loc[:, \"pix_pb\"].values, bins=100, alpha=0.5, normed=False, color=\"blue\")\n",
    "ax.set_xlabel(\"Image: Pixels per Byte\")\n",
    "ax.set_ylabel(\"Percent of Sample\")\n",
    "ax.set_xlim(0)"
   ]
  },
  {
   "cell_type": "code",
   "execution_count": 246,
   "metadata": {},
   "outputs": [],
   "source": [
    "_imgs = df[df.loc[:, \"pix_pb\"] < 1]"
   ]
  },
  {
   "cell_type": "code",
   "execution_count": 247,
   "metadata": {},
   "outputs": [],
   "source": [
    "# df.to_csv(\"../data/image_file_features.csv\", sep=\"\\t\")"
   ]
  },
  {
   "cell_type": "code",
   "execution_count": 248,
   "metadata": {},
   "outputs": [
    {
     "name": "stdout",
     "output_type": "stream",
     "text": [
      "all_r_mean: 176.02548734542899\n",
      "all_g_mean: 166.17418689474772\n",
      "all_b_mean: 158.12139747811295\n"
     ]
    }
   ],
   "source": [
    "# old means\n",
    "# all_r_mean: 176.00384963451177\n",
    "# all_g_mean: 166.20842509882658\n",
    "# all_b_mean: 158.0920543886322\n",
    "\n",
    "all_r_mean = df.loc[:, \"r_mean\"].values.mean()\n",
    "print(\"all_r_mean:\", all_r_mean)\n",
    "\n",
    "all_g_mean = df.loc[:, \"g_mean\"].values.mean()\n",
    "print(\"all_g_mean:\", all_g_mean)\n",
    "\n",
    "all_b_mean = df.loc[:, \"b_mean\"].values.mean()\n",
    "print(\"all_b_mean:\", all_b_mean)"
   ]
  },
  {
   "cell_type": "code",
   "execution_count": 249,
   "metadata": {},
   "outputs": [],
   "source": [
    "df.loc[:, \"labels\"] = df.loc[:, \"path\"].apply(lambda x: int(x.split(\"_\")[-1].split(\".\")[0]))\n",
    "\n",
    "df.loc[:, \"path\"] = df.loc[:, \"path\"].apply(lambda x: \"../data/stage3_imgs/\" + x.split(\"/\")[-1])"
   ]
  },
  {
   "cell_type": "code",
   "execution_count": 250,
   "metadata": {},
   "outputs": [
    {
     "data": {
      "text/plain": [
       "Index(['path', 'h', 'w', 'pixels', 'aspect_ratio', 'file_size', 'pix_pb',\n",
       "       'r_mean', 'g_mean', 'b_mean', 'r_accum_err', 'g_accum_err',\n",
       "       'b_accum_err', 'labels'],\n",
       "      dtype='object')"
      ]
     },
     "execution_count": 250,
     "metadata": {},
     "output_type": "execute_result"
    }
   ],
   "source": [
    "df.keys()"
   ]
  },
  {
   "cell_type": "code",
   "execution_count": 251,
   "metadata": {},
   "outputs": [
    {
     "data": {
      "text/html": [
       "<div>\n",
       "<style scoped>\n",
       "    .dataframe tbody tr th:only-of-type {\n",
       "        vertical-align: middle;\n",
       "    }\n",
       "\n",
       "    .dataframe tbody tr th {\n",
       "        vertical-align: top;\n",
       "    }\n",
       "\n",
       "    .dataframe thead th {\n",
       "        text-align: right;\n",
       "    }\n",
       "</style>\n",
       "<table border=\"1\" class=\"dataframe\">\n",
       "  <thead>\n",
       "    <tr style=\"text-align: right;\">\n",
       "      <th></th>\n",
       "      <th>path</th>\n",
       "      <th>h</th>\n",
       "      <th>w</th>\n",
       "      <th>pixels</th>\n",
       "      <th>aspect_ratio</th>\n",
       "      <th>file_size</th>\n",
       "      <th>pix_pb</th>\n",
       "      <th>r_mean</th>\n",
       "      <th>g_mean</th>\n",
       "      <th>b_mean</th>\n",
       "      <th>r_accum_err</th>\n",
       "      <th>g_accum_err</th>\n",
       "      <th>b_accum_err</th>\n",
       "      <th>labels</th>\n",
       "    </tr>\n",
       "  </thead>\n",
       "  <tbody>\n",
       "    <tr>\n",
       "      <th>0</th>\n",
       "      <td>../data/stage3_imgs/5766_86.jpg</td>\n",
       "      <td>800</td>\n",
       "      <td>800</td>\n",
       "      <td>640000</td>\n",
       "      <td>1.000000</td>\n",
       "      <td>128286</td>\n",
       "      <td>4.988853</td>\n",
       "      <td>140.576036</td>\n",
       "      <td>145.824555</td>\n",
       "      <td>147.036348</td>\n",
       "      <td>0.007165</td>\n",
       "      <td>0.005192</td>\n",
       "      <td>0.004690</td>\n",
       "      <td>86</td>\n",
       "    </tr>\n",
       "    <tr>\n",
       "      <th>1</th>\n",
       "      <td>../data/stage3_imgs/185146_76.jpg</td>\n",
       "      <td>800</td>\n",
       "      <td>800</td>\n",
       "      <td>640000</td>\n",
       "      <td>1.000000</td>\n",
       "      <td>117650</td>\n",
       "      <td>5.439864</td>\n",
       "      <td>182.197589</td>\n",
       "      <td>160.468755</td>\n",
       "      <td>163.731077</td>\n",
       "      <td>0.004288</td>\n",
       "      <td>0.003857</td>\n",
       "      <td>0.004232</td>\n",
       "      <td>76</td>\n",
       "    </tr>\n",
       "    <tr>\n",
       "      <th>2</th>\n",
       "      <td>../data/stage3_imgs/107259_53.jpg</td>\n",
       "      <td>803</td>\n",
       "      <td>1200</td>\n",
       "      <td>963600</td>\n",
       "      <td>1.494396</td>\n",
       "      <td>82157</td>\n",
       "      <td>11.728763</td>\n",
       "      <td>157.738790</td>\n",
       "      <td>163.155018</td>\n",
       "      <td>157.571339</td>\n",
       "      <td>0.002057</td>\n",
       "      <td>0.001877</td>\n",
       "      <td>0.001751</td>\n",
       "      <td>53</td>\n",
       "    </tr>\n",
       "    <tr>\n",
       "      <th>3</th>\n",
       "      <td>../data/stage3_imgs/28210_68.jpg</td>\n",
       "      <td>1000</td>\n",
       "      <td>971</td>\n",
       "      <td>971000</td>\n",
       "      <td>0.971000</td>\n",
       "      <td>143748</td>\n",
       "      <td>6.754877</td>\n",
       "      <td>172.242527</td>\n",
       "      <td>189.619725</td>\n",
       "      <td>207.394022</td>\n",
       "      <td>0.006605</td>\n",
       "      <td>0.004845</td>\n",
       "      <td>0.007552</td>\n",
       "      <td>68</td>\n",
       "    </tr>\n",
       "    <tr>\n",
       "      <th>4</th>\n",
       "      <td>../data/stage3_imgs/45715_105.jpg</td>\n",
       "      <td>800</td>\n",
       "      <td>800</td>\n",
       "      <td>640000</td>\n",
       "      <td>1.000000</td>\n",
       "      <td>155172</td>\n",
       "      <td>4.124455</td>\n",
       "      <td>135.337081</td>\n",
       "      <td>127.190166</td>\n",
       "      <td>76.466955</td>\n",
       "      <td>0.006312</td>\n",
       "      <td>0.007881</td>\n",
       "      <td>0.015965</td>\n",
       "      <td>105</td>\n",
       "    </tr>\n",
       "  </tbody>\n",
       "</table>\n",
       "</div>"
      ],
      "text/plain": [
       "                                path     h     w  pixels  aspect_ratio  \\\n",
       "0    ../data/stage3_imgs/5766_86.jpg   800   800  640000      1.000000   \n",
       "1  ../data/stage3_imgs/185146_76.jpg   800   800  640000      1.000000   \n",
       "2  ../data/stage3_imgs/107259_53.jpg   803  1200  963600      1.494396   \n",
       "3   ../data/stage3_imgs/28210_68.jpg  1000   971  971000      0.971000   \n",
       "4  ../data/stage3_imgs/45715_105.jpg   800   800  640000      1.000000   \n",
       "\n",
       "   file_size     pix_pb      r_mean      g_mean      b_mean  r_accum_err  \\\n",
       "0     128286   4.988853  140.576036  145.824555  147.036348     0.007165   \n",
       "1     117650   5.439864  182.197589  160.468755  163.731077     0.004288   \n",
       "2      82157  11.728763  157.738790  163.155018  157.571339     0.002057   \n",
       "3     143748   6.754877  172.242527  189.619725  207.394022     0.006605   \n",
       "4     155172   4.124455  135.337081  127.190166   76.466955     0.006312   \n",
       "\n",
       "   g_accum_err  b_accum_err  labels  \n",
       "0     0.005192     0.004690      86  \n",
       "1     0.003857     0.004232      76  \n",
       "2     0.001877     0.001751      53  \n",
       "3     0.004845     0.007552      68  \n",
       "4     0.007881     0.015965     105  "
      ]
     },
     "execution_count": 251,
     "metadata": {},
     "output_type": "execute_result"
    }
   ],
   "source": [
    "df.head()"
   ]
  },
  {
   "cell_type": "code",
   "execution_count": 252,
   "metadata": {},
   "outputs": [],
   "source": [
    "def dictofy(values):\n",
    "    '''\n",
    "    take a numpy array and convert it to a dictionary\n",
    "    \n",
    "    return dictionary of row of data\n",
    "    '''\n",
    "    these_keys = ['path', 'h', 'w', 'pixels', 'aspect_ratio', 'file_size', 'pix_pb',\n",
    "             'r_mean', 'g_mean', 'b_mean', 'r_accum_err', 'g_accum_err',\n",
    "             'b_accum_err']\n",
    "    t_data = {}\n",
    "    \n",
    "    for idx, this_key in enumerate(these_keys): \n",
    "        t_data[this_key] = values[idx]\n",
    "        \n",
    "    return t_data\n",
    "        \n",
    "#     print(data)"
   ]
  },
  {
   "cell_type": "code",
   "execution_count": 253,
   "metadata": {},
   "outputs": [
    {
     "data": {
      "text/plain": [
       "{'aspect_ratio': 1.0,\n",
       " 'b_accum_err': 0.004689738372158579,\n",
       " 'b_mean': 147.0363484375,\n",
       " 'file_size': 128286,\n",
       " 'g_accum_err': 0.005191802260274338,\n",
       " 'g_mean': 145.8245546875,\n",
       " 'h': 800,\n",
       " 'path': '../data/imgs/5766_86.jpg',\n",
       " 'pix_pb': 4.988853031507725,\n",
       " 'pixels': 640000,\n",
       " 'r_accum_err': 0.0071652347734552846,\n",
       " 'r_mean': 140.5760359375,\n",
       " 'w': 800}"
      ]
     },
     "execution_count": 253,
     "metadata": {},
     "output_type": "execute_result"
    }
   ],
   "source": [
    "dictofy(data_vault[0])"
   ]
  },
  {
   "cell_type": "code",
   "execution_count": 254,
   "metadata": {},
   "outputs": [
    {
     "name": "stdout",
     "output_type": "stream",
     "text": [
      "ok\n",
      "190396 190396\n",
      "(190396, 13) (190396, 1)\n"
     ]
    }
   ],
   "source": [
    "labels = df.loc[:, \"labels\"].values\n",
    "data_core = df.drop(\"labels\", axis=1)\n",
    "data_vault = data_core.values\n",
    "\n",
    "print(\"ok\")\n",
    "# data_vault.loc[:, \"data\"] = df.loc[:, ['h', 'w', 'pixels']]\n",
    "#                                                      'aspect_ratio', 'file_size',\n",
    "#                                                      'pix_pb', 'r_mean', 'g_mean',\n",
    "#                                                      'b_mean', 'r_accum_err',\n",
    "#                                                      'g_accum_err', 'b_accum_err',\n",
    "#                                                      'labels']]\n",
    "# print(data_vault[:5])\n",
    "\n",
    "# data_core.head()\n",
    "labels = labels.reshape(-1, 1)\n",
    "print(len(data_core), len(labels))\n",
    "print(data_core.shape, labels.shape)"
   ]
  },
  {
   "cell_type": "code",
   "execution_count": 255,
   "metadata": {},
   "outputs": [],
   "source": [
    "from sklearn.model_selection import StratifiedKFold\n",
    "\n",
    "skf = StratifiedKFold(n_splits=10)\n",
    "\n",
    "initial_data_dict = {}\n",
    "\n",
    "fold = 0\n",
    "for train_index, test_index in skf.split(data_vault, labels):\n",
    "    fold += 1\n",
    "    if fold > 3:\n",
    "        break\n",
    "        \n",
    "    initial_data_dict[\"X_train_{:}\".format(fold)] = data_vault[train_index]\n",
    "    initial_data_dict[\"X_test_{:}\".format(fold)] = data_vault[test_index]\n",
    "    \n",
    "    initial_data_dict[\"y_train_{:}\".format(fold)] = list(labels[train_index])\n",
    "    initial_data_dict[\"y_test_{:}\".format(fold)] = list(labels[test_index])"
   ]
  },
  {
   "cell_type": "code",
   "execution_count": 256,
   "metadata": {},
   "outputs": [
    {
     "data": {
      "text/plain": [
       "dict_keys(['X_train_1', 'X_test_1', 'y_train_1', 'y_test_1', 'X_train_2', 'X_test_2', 'y_train_2', 'y_test_2', 'X_train_3', 'X_test_3', 'y_train_3', 'y_test_3'])"
      ]
     },
     "execution_count": 256,
     "metadata": {},
     "output_type": "execute_result"
    }
   ],
   "source": [
    "initial_data_dict.keys()"
   ]
  },
  {
   "cell_type": "code",
   "execution_count": 257,
   "metadata": {},
   "outputs": [
    {
     "data": {
      "text/plain": [
       "array([['../data/stage3_imgs/70691_65.jpg', 800, 800, ...,\n",
       "        0.01741619515134654, 0.017224911024578352, 0.017017211562164382],\n",
       "       ['../data/stage3_imgs/44175_48.jpg', 541, 590, ...,\n",
       "        0.006081587137431892, 0.0060023336024812544,\n",
       "        0.006234955936934886],\n",
       "       ['../data/stage3_imgs/70801_65.jpg', 800, 800, ...,\n",
       "        0.01397158523195341, 0.015094079208649677, 0.01610358172970077],\n",
       "       ...,\n",
       "       ['../data/stage3_imgs/91908_2.jpg', 800, 800, ...,\n",
       "        0.011451279640070491, 0.012481209469475231, 0.013602589748566865],\n",
       "       ['../data/stage3_imgs/57772_78.jpg', 640, 640, ...,\n",
       "        0.01954047339293043, 0.020193265082400776, 0.021333275301984332],\n",
       "       ['../data/stage3_imgs/77151_121.jpg', 363, 363, ...,\n",
       "        0.013992301608251061, 0.036537359271515094, 0.04618213670272627]],\n",
       "      dtype=object)"
      ]
     },
     "execution_count": 257,
     "metadata": {},
     "output_type": "execute_result"
    }
   ],
   "source": [
    "initial_data_dict[\"X_train_1\"]"
   ]
  },
  {
   "cell_type": "code",
   "execution_count": 258,
   "metadata": {},
   "outputs": [],
   "source": [
    "final_data_dict = initial_data_dict.copy()"
   ]
  },
  {
   "cell_type": "code",
   "execution_count": 259,
   "metadata": {},
   "outputs": [
    {
     "data": {
      "text/plain": [
       "dict_keys(['X_train_1', 'X_test_1', 'y_train_1', 'y_test_1', 'X_train_2', 'X_test_2', 'y_train_2', 'y_test_2', 'X_train_3', 'X_test_3', 'y_train_3', 'y_test_3'])"
      ]
     },
     "execution_count": 259,
     "metadata": {},
     "output_type": "execute_result"
    }
   ],
   "source": [
    "final_data_dict.keys()"
   ]
  },
  {
   "cell_type": "code",
   "execution_count": 260,
   "metadata": {},
   "outputs": [
    {
     "name": "stdout",
     "output_type": "stream",
     "text": [
      "X_train_1\n",
      "X_test_1\n",
      "X_train_2\n",
      "X_test_2\n",
      "X_train_3\n",
      "X_test_3\n"
     ]
    }
   ],
   "source": [
    "final_data_dict = initial_data_dict.copy()\n",
    "\n",
    "for _key in final_data_dict.keys():\n",
    "    if \"X\" in _key:\n",
    "        temp_list = []\n",
    "        print(_key)\n",
    "\n",
    "        for idx in range(len(final_data_dict[_key])):\n",
    "            temp_list.append(dictofy(final_data_dict[_key][idx]))\n",
    "\n",
    "        final_data_dict[_key] = temp_list\n",
    "        \n",
    "    elif \"y\" in _key:\n",
    "        final_data_dict[_key] = [int(item[0]) for item in final_data_dict[_key]]"
   ]
  },
  {
   "cell_type": "code",
   "execution_count": 261,
   "metadata": {},
   "outputs": [
    {
     "name": "stdout",
     "output_type": "stream",
     "text": [
      "X_train_1\n",
      "[{'path': '../data/stage3_imgs/70691_65.jpg', 'h': 800, 'w': 800, 'pixels': 640000, 'aspect_ratio': 1.0, 'file_size': 94648, 'pix_pb': 6.761896712027724, 'r_mean': 166.2122390625, 'g_mean': 163.66376875, 'b_mean': 164.05480625, 'r_accum_err': 0.01741619515134654, 'g_accum_err': 0.017224911024578352, 'b_accum_err': 0.017017211562164382}, {'path': '../data/stage3_imgs/44175_48.jpg', 'h': 541, 'w': 590, 'pixels': 319190, 'aspect_ratio': 1.0905730129390019, 'file_size': 39796, 'pix_pb': 8.020655342245451, 'r_mean': 162.79629374353834, 'g_mean': 158.07347347974562, 'b_mean': 153.52589680127824, 'r_accum_err': 0.006081587137431892, 'g_accum_err': 0.0060023336024812544, 'b_accum_err': 0.006234955936934886}, {'path': '../data/stage3_imgs/70801_65.jpg', 'h': 800, 'w': 800, 'pixels': 640000, 'aspect_ratio': 1.0, 'file_size': 54903, 'pix_pb': 11.656922208258202, 'r_mean': 211.940196875, 'g_mean': 208.9548921875, 'b_mean': 207.8976234375, 'r_accum_err': 0.01397158523195341, 'g_accum_err': 0.015094079208649677, 'b_accum_err': 0.01610358172970077}, {'path': '../data/stage3_imgs/44582_48.jpg', 'h': 498, 'w': 750, 'pixels': 373500, 'aspect_ratio': 1.5060240963855422, 'file_size': 45580, 'pix_pb': 8.19438350153576, 'r_mean': 142.68080856760375, 'g_mean': 142.62966800535474, 'b_mean': 144.68828647925034, 'r_accum_err': 0.013406259703818086, 'g_accum_err': 0.01187553145664015, 'b_accum_err': 0.010733077861291192}, {'path': '../data/stage3_imgs/149640_44.jpg', 'h': 480, 'w': 480, 'pixels': 230400, 'aspect_ratio': 1.0, 'file_size': 15351, 'pix_pb': 15.008794215360563, 'r_mean': 239.12331163194443, 'g_mean': 239.17674479166666, 'b_mean': 239.90123697916667, 'r_accum_err': 0.026496190299343407, 'g_accum_err': 0.03238188030089032, 'b_accum_err': 0.03784612160200213}]\n",
      "X_test_1\n",
      "[{'path': '../data/stage3_imgs/5766_86.jpg', 'h': 800, 'w': 800, 'pixels': 640000, 'aspect_ratio': 1.0, 'file_size': 128286, 'pix_pb': 4.988853031507725, 'r_mean': 140.5760359375, 'g_mean': 145.8245546875, 'b_mean': 147.0363484375, 'r_accum_err': 0.0071652347734552846, 'g_accum_err': 0.005191802260274338, 'b_accum_err': 0.004689738372158579}, {'path': '../data/stage3_imgs/185146_76.jpg', 'h': 800, 'w': 800, 'pixels': 640000, 'aspect_ratio': 1.0, 'file_size': 117650, 'pix_pb': 5.439864003399915, 'r_mean': 182.1975890625, 'g_mean': 160.4687546875, 'b_mean': 163.7310765625, 'r_accum_err': 0.004287814432776088, 'g_accum_err': 0.0038574950481032886, 'b_accum_err': 0.004232046190936933}, {'path': '../data/stage3_imgs/107259_53.jpg', 'h': 803, 'w': 1200, 'pixels': 963600, 'aspect_ratio': 1.4943960149439601, 'file_size': 82157, 'pix_pb': 11.728763221636623, 'r_mean': 157.7387899543379, 'g_mean': 163.15501764217518, 'b_mean': 157.5713387297634, 'r_accum_err': 0.002057392538465547, 'g_accum_err': 0.0018770432496739002, 'b_accum_err': 0.001751153042950837}, {'path': '../data/stage3_imgs/28210_68.jpg', 'h': 1000, 'w': 971, 'pixels': 971000, 'aspect_ratio': 0.971, 'file_size': 143748, 'pix_pb': 6.754876589587333, 'r_mean': 172.24252729145212, 'g_mean': 189.61972502574665, 'b_mean': 207.39402162718847, 'r_accum_err': 0.006604770536303732, 'g_accum_err': 0.004844847930786858, 'b_accum_err': 0.007551536350936226}, {'path': '../data/stage3_imgs/45715_105.jpg', 'h': 800, 'w': 800, 'pixels': 640000, 'aspect_ratio': 1.0, 'file_size': 155172, 'pix_pb': 4.124455442992293, 'r_mean': 135.33708125, 'g_mean': 127.190165625, 'b_mean': 76.4669546875, 'r_accum_err': 0.006311772083313164, 'g_accum_err': 0.00788062548344051, 'b_accum_err': 0.01596475896461265}]\n",
      "y_train_1\n",
      "[65, 48, 65, 48, 44]\n",
      "y_test_1\n",
      "[86, 76, 53, 68, 105]\n",
      "X_train_2\n",
      "[{'path': '../data/stage3_imgs/5766_86.jpg', 'h': 800, 'w': 800, 'pixels': 640000, 'aspect_ratio': 1.0, 'file_size': 128286, 'pix_pb': 4.988853031507725, 'r_mean': 140.5760359375, 'g_mean': 145.8245546875, 'b_mean': 147.0363484375, 'r_accum_err': 0.0071652347734552846, 'g_accum_err': 0.005191802260274338, 'b_accum_err': 0.004689738372158579}, {'path': '../data/stage3_imgs/185146_76.jpg', 'h': 800, 'w': 800, 'pixels': 640000, 'aspect_ratio': 1.0, 'file_size': 117650, 'pix_pb': 5.439864003399915, 'r_mean': 182.1975890625, 'g_mean': 160.4687546875, 'b_mean': 163.7310765625, 'r_accum_err': 0.004287814432776088, 'g_accum_err': 0.0038574950481032886, 'b_accum_err': 0.004232046190936933}, {'path': '../data/stage3_imgs/107259_53.jpg', 'h': 803, 'w': 1200, 'pixels': 963600, 'aspect_ratio': 1.4943960149439601, 'file_size': 82157, 'pix_pb': 11.728763221636623, 'r_mean': 157.7387899543379, 'g_mean': 163.15501764217518, 'b_mean': 157.5713387297634, 'r_accum_err': 0.002057392538465547, 'g_accum_err': 0.0018770432496739002, 'b_accum_err': 0.001751153042950837}, {'path': '../data/stage3_imgs/28210_68.jpg', 'h': 1000, 'w': 971, 'pixels': 971000, 'aspect_ratio': 0.971, 'file_size': 143748, 'pix_pb': 6.754876589587333, 'r_mean': 172.24252729145212, 'g_mean': 189.61972502574665, 'b_mean': 207.39402162718847, 'r_accum_err': 0.006604770536303732, 'g_accum_err': 0.004844847930786858, 'b_accum_err': 0.007551536350936226}, {'path': '../data/stage3_imgs/45715_105.jpg', 'h': 800, 'w': 800, 'pixels': 640000, 'aspect_ratio': 1.0, 'file_size': 155172, 'pix_pb': 4.124455442992293, 'r_mean': 135.33708125, 'g_mean': 127.190165625, 'b_mean': 76.4669546875, 'r_accum_err': 0.006311772083313164, 'g_accum_err': 0.00788062548344051, 'b_accum_err': 0.01596475896461265}]\n",
      "X_test_2\n",
      "[{'path': '../data/stage3_imgs/70691_65.jpg', 'h': 800, 'w': 800, 'pixels': 640000, 'aspect_ratio': 1.0, 'file_size': 94648, 'pix_pb': 6.761896712027724, 'r_mean': 166.2122390625, 'g_mean': 163.66376875, 'b_mean': 164.05480625, 'r_accum_err': 0.01741619515134654, 'g_accum_err': 0.017224911024578352, 'b_accum_err': 0.017017211562164382}, {'path': '../data/stage3_imgs/44175_48.jpg', 'h': 541, 'w': 590, 'pixels': 319190, 'aspect_ratio': 1.0905730129390019, 'file_size': 39796, 'pix_pb': 8.020655342245451, 'r_mean': 162.79629374353834, 'g_mean': 158.07347347974562, 'b_mean': 153.52589680127824, 'r_accum_err': 0.006081587137431892, 'g_accum_err': 0.0060023336024812544, 'b_accum_err': 0.006234955936934886}, {'path': '../data/stage3_imgs/70801_65.jpg', 'h': 800, 'w': 800, 'pixels': 640000, 'aspect_ratio': 1.0, 'file_size': 54903, 'pix_pb': 11.656922208258202, 'r_mean': 211.940196875, 'g_mean': 208.9548921875, 'b_mean': 207.8976234375, 'r_accum_err': 0.01397158523195341, 'g_accum_err': 0.015094079208649677, 'b_accum_err': 0.01610358172970077}, {'path': '../data/stage3_imgs/44582_48.jpg', 'h': 498, 'w': 750, 'pixels': 373500, 'aspect_ratio': 1.5060240963855422, 'file_size': 45580, 'pix_pb': 8.19438350153576, 'r_mean': 142.68080856760375, 'g_mean': 142.62966800535474, 'b_mean': 144.68828647925034, 'r_accum_err': 0.013406259703818086, 'g_accum_err': 0.01187553145664015, 'b_accum_err': 0.010733077861291192}, {'path': '../data/stage3_imgs/149640_44.jpg', 'h': 480, 'w': 480, 'pixels': 230400, 'aspect_ratio': 1.0, 'file_size': 15351, 'pix_pb': 15.008794215360563, 'r_mean': 239.12331163194443, 'g_mean': 239.17674479166666, 'b_mean': 239.90123697916667, 'r_accum_err': 0.026496190299343407, 'g_accum_err': 0.03238188030089032, 'b_accum_err': 0.03784612160200213}]\n",
      "y_train_2\n",
      "[86, 76, 53, 68, 105]\n",
      "y_test_2\n",
      "[65, 48, 65, 48, 44]\n",
      "X_train_3\n",
      "[{'path': '../data/stage3_imgs/5766_86.jpg', 'h': 800, 'w': 800, 'pixels': 640000, 'aspect_ratio': 1.0, 'file_size': 128286, 'pix_pb': 4.988853031507725, 'r_mean': 140.5760359375, 'g_mean': 145.8245546875, 'b_mean': 147.0363484375, 'r_accum_err': 0.0071652347734552846, 'g_accum_err': 0.005191802260274338, 'b_accum_err': 0.004689738372158579}, {'path': '../data/stage3_imgs/185146_76.jpg', 'h': 800, 'w': 800, 'pixels': 640000, 'aspect_ratio': 1.0, 'file_size': 117650, 'pix_pb': 5.439864003399915, 'r_mean': 182.1975890625, 'g_mean': 160.4687546875, 'b_mean': 163.7310765625, 'r_accum_err': 0.004287814432776088, 'g_accum_err': 0.0038574950481032886, 'b_accum_err': 0.004232046190936933}, {'path': '../data/stage3_imgs/107259_53.jpg', 'h': 803, 'w': 1200, 'pixels': 963600, 'aspect_ratio': 1.4943960149439601, 'file_size': 82157, 'pix_pb': 11.728763221636623, 'r_mean': 157.7387899543379, 'g_mean': 163.15501764217518, 'b_mean': 157.5713387297634, 'r_accum_err': 0.002057392538465547, 'g_accum_err': 0.0018770432496739002, 'b_accum_err': 0.001751153042950837}, {'path': '../data/stage3_imgs/28210_68.jpg', 'h': 1000, 'w': 971, 'pixels': 971000, 'aspect_ratio': 0.971, 'file_size': 143748, 'pix_pb': 6.754876589587333, 'r_mean': 172.24252729145212, 'g_mean': 189.61972502574665, 'b_mean': 207.39402162718847, 'r_accum_err': 0.006604770536303732, 'g_accum_err': 0.004844847930786858, 'b_accum_err': 0.007551536350936226}, {'path': '../data/stage3_imgs/45715_105.jpg', 'h': 800, 'w': 800, 'pixels': 640000, 'aspect_ratio': 1.0, 'file_size': 155172, 'pix_pb': 4.124455442992293, 'r_mean': 135.33708125, 'g_mean': 127.190165625, 'b_mean': 76.4669546875, 'r_accum_err': 0.006311772083313164, 'g_accum_err': 0.00788062548344051, 'b_accum_err': 0.01596475896461265}]\n",
      "X_test_3\n",
      "[{'path': '../data/stage3_imgs/108828_119.jpg', 'h': 800, 'w': 800, 'pixels': 640000, 'aspect_ratio': 1.0, 'file_size': 64852, 'pix_pb': 9.868623943748844, 'r_mean': 188.24139375, 'g_mean': 173.3109484375, 'b_mean': 159.3157625, 'r_accum_err': 0.0067180258486890364, 'g_accum_err': 0.008488559053372056, 'b_accum_err': 0.010660575384703781}, {'path': '../data/stage3_imgs/108651_119.jpg', 'h': 800, 'w': 800, 'pixels': 640000, 'aspect_ratio': 1.0, 'file_size': 87361, 'pix_pb': 7.325923466993281, 'r_mean': 172.1887125, 'g_mean': 156.4538578125, 'b_mean': 146.4022578125, 'r_accum_err': 0.009165065175113238, 'g_accum_err': 0.009691369942526572, 'b_accum_err': 0.009852965639384585}, {'path': '../data/stage3_imgs/108490_119.jpg', 'h': 800, 'w': 800, 'pixels': 640000, 'aspect_ratio': 1.0, 'file_size': 110390, 'pix_pb': 5.7976265966120115, 'r_mean': 161.2903453125, 'g_mean': 147.404946875, 'b_mean': 139.59786875, 'r_accum_err': 0.007464943112259168, 'g_accum_err': 0.010143403582175546, 'b_accum_err': 0.009872501273076508}, {'path': '../data/stage3_imgs/107987_119.jpg', 'h': 643, 'w': 698, 'pixels': 448814, 'aspect_ratio': 1.0855365474339036, 'file_size': 44152, 'pix_pb': 10.165202029353143, 'r_mean': 227.19013221512697, 'g_mean': 223.7125334771197, 'b_mean': 218.42641717949974, 'r_accum_err': 0.012019665497552756, 'g_accum_err': 0.013953170555278425, 'b_accum_err': 0.015731420180200604}, {'path': '../data/stage3_imgs/108533_119.jpg', 'h': 800, 'w': 800, 'pixels': 640000, 'aspect_ratio': 1.0, 'file_size': 113721, 'pix_pb': 5.6278084082975, 'r_mean': 133.0414078125, 'g_mean': 141.034803125, 'b_mean': 130.3114671875, 'r_accum_err': 0.008004351045727047, 'g_accum_err': 0.007094252838122834, 'b_accum_err': 0.008280428031239562}]\n",
      "y_train_3\n",
      "[86, 76, 53, 68, 105]\n",
      "y_test_3\n",
      "[119, 119, 119, 119, 119]\n"
     ]
    }
   ],
   "source": [
    "for key in final_data_dict.keys():\n",
    "    print(key)\n",
    "    print(final_data_dict[key][:5])"
   ]
  },
  {
   "cell_type": "code",
   "execution_count": 262,
   "metadata": {},
   "outputs": [],
   "source": [
    "import json"
   ]
  },
  {
   "cell_type": "code",
   "execution_count": 263,
   "metadata": {},
   "outputs": [],
   "source": [
    "with open(\"../data/metadata_splits.json\", \"w\") as outfile:\n",
    "    json.dump(final_data_dict, outfile)"
   ]
  },
  {
   "cell_type": "code",
   "execution_count": null,
   "metadata": {},
   "outputs": [],
   "source": []
  }
 ],
 "metadata": {
  "kernelspec": {
   "display_name": "Python 3",
   "language": "python",
   "name": "python3"
  },
  "language_info": {
   "codemirror_mode": {
    "name": "ipython",
    "version": 3
   },
   "file_extension": ".py",
   "mimetype": "text/x-python",
   "name": "python",
   "nbconvert_exporter": "python",
   "pygments_lexer": "ipython3",
   "version": "3.6.4"
  }
 },
 "nbformat": 4,
 "nbformat_minor": 2
}
